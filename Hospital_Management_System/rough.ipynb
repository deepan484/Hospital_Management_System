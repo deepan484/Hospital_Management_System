{
 "cells": [
  {
   "cell_type": "code",
   "execution_count": 1,
   "metadata": {},
   "outputs": [
    {
     "name": "stdout",
     "output_type": "stream",
     "text": [
      "Database connection successful.\n"
     ]
    }
   ],
   "source": [
    "from database import get_db_connection\n",
    "def test_db_connection():\n",
    "    try:\n",
    "        conn = get_db_connection()\n",
    "        cursor = conn.cursor()\n",
    "        cursor.execute(\"SELECT 1;\")\n",
    "        cursor.fetchone()\n",
    "        cursor.close()\n",
    "        conn.close()\n",
    "        print(\"Database connection successful.\")  # Debug\n",
    "    except Exception as e:\n",
    "        print(f\"Database connection failed: {str(e)}\")  # Debugging output\n",
    "\n",
    "# Call this function in your main app or when initializing\n",
    "test_db_connection()\n"
   ]
  },
  {
   "cell_type": "code",
   "execution_count": null,
   "metadata": {},
   "outputs": [],
   "source": []
  }
 ],
 "metadata": {
  "kernelspec": {
   "display_name": "Python 3",
   "language": "python",
   "name": "python3"
  },
  "language_info": {
   "codemirror_mode": {
    "name": "ipython",
    "version": 3
   },
   "file_extension": ".py",
   "mimetype": "text/x-python",
   "name": "python",
   "nbconvert_exporter": "python",
   "pygments_lexer": "ipython3",
   "version": "3.11.4"
  }
 },
 "nbformat": 4,
 "nbformat_minor": 2
}
